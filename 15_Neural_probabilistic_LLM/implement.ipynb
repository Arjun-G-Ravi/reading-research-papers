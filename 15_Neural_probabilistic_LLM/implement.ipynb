{
 "cells": [
  {
   "cell_type": "code",
   "execution_count": 1,
   "metadata": {},
   "outputs": [
    {
     "name": "stderr",
     "output_type": "stream",
     "text": [
      "/home/arjun/Desktop/AI_ENV/lib/python3.10/site-packages/tqdm/auto.py:21: TqdmWarning: IProgress not found. Please update jupyter and ipywidgets. See https://ipywidgets.readthedocs.io/en/stable/user_install.html\n",
      "  from .autonotebook import tqdm as notebook_tqdm\n"
     ]
    }
   ],
   "source": [
    "import torch\n",
    "import numpy as np\n",
    "from datasets import load_dataset\n",
    "import torch.nn as nn\n",
    "from torch.utils.data import Dataset, DataLoader"
   ]
  },
  {
   "cell_type": "code",
   "execution_count": 2,
   "metadata": {},
   "outputs": [],
   "source": [
    "device = torch.device('cuda' if torch.cuda.is_available() else 'cpu')\n",
    "# device = torch.device('cpu')\n",
    "batch_size = 256"
   ]
  },
  {
   "cell_type": "markdown",
   "metadata": {},
   "source": [
    "# Creating vocabulory"
   ]
  },
  {
   "cell_type": "code",
   "execution_count": 3,
   "metadata": {},
   "outputs": [],
   "source": [
    "n = 5\n",
    "embedding_dims = 10 # how many dimensional vector should represent each word in the vocabulory"
   ]
  },
  {
   "cell_type": "code",
   "execution_count": 4,
   "metadata": {},
   "outputs": [],
   "source": [
    "ds = load_dataset(\"MuskumPillerum/General-Knowledge\")\n",
    "df = ds['train'][:10]"
   ]
  },
  {
   "cell_type": "code",
   "execution_count": 5,
   "metadata": {},
   "outputs": [
    {
     "data": {
      "text/plain": [
       "['what', 'is', 'your', '!', '!', '!', 'name', '?']"
      ]
     },
     "execution_count": 5,
     "metadata": {},
     "output_type": "execute_result"
    }
   ],
   "source": [
    "def tokenize(sentence):\n",
    "    data = sentence\n",
    "    split_terms = [',', '.', '!', '?', '(', ')', '&', '$', '+', '-', '/', '*', ';', ':']\n",
    "    for split_term in split_terms:\n",
    "        if split_term in sentence:\n",
    "            data = data.replace(split_term, f' {split_term} ')\n",
    "    data = data.split()\n",
    "    return data\n",
    "\n",
    "tokenize('what is your !! ! name ?    ')"
   ]
  },
  {
   "cell_type": "code",
   "execution_count": 6,
   "metadata": {},
   "outputs": [],
   "source": [
    "vocab_list = set()\n",
    "X = []\n",
    "for x,y in zip(df['Question'], df['Answer']):\n",
    "    data = f'<s> Question: {x} Answer: {y} </s>'\n",
    "    data = data.lower().replace('\\\\n', '')\n",
    "    vocab_list.update(tokenize(data))\n",
    "    X.append(data)"
   ]
  },
  {
   "cell_type": "code",
   "execution_count": 7,
   "metadata": {},
   "outputs": [],
   "source": [
    "vocab_list.add('<UNK>')"
   ]
  },
  {
   "cell_type": "code",
   "execution_count": 8,
   "metadata": {},
   "outputs": [
    {
     "data": {
      "text/plain": [
       "145"
      ]
     },
     "execution_count": 8,
     "metadata": {},
     "output_type": "execute_result"
    }
   ],
   "source": [
    "vocab = {v:i for v,i in zip(vocab_list, range(0, len(vocab_list)+1))}\n",
    "len(vocab)"
   ]
  },
  {
   "cell_type": "code",
   "execution_count": 9,
   "metadata": {},
   "outputs": [
    {
     "data": {
      "text/plain": [
       "{'algorithms': 0,\n",
       " 'analyze': 1,\n",
       " 'refers': 2,\n",
       " 'information': 3,\n",
       " 'this': 4,\n",
       " 'without': 5,\n",
       " 'learning': 6,\n",
       " 'a': 7,\n",
       " 'reward': 8,\n",
       " 'and': 9,\n",
       " 'main': 10,\n",
       " 'speech': 11,\n",
       " 'predictions': 12,\n",
       " 'processing': 13,\n",
       " 'signal': 14,\n",
       " 'ability': 15,\n",
       " 'maximize': 16,\n",
       " 'transmit': 17,\n",
       " 'environment': 18,\n",
       " 'aims': 19,\n",
       " 'answer': 20,\n",
       " 'to': 21,\n",
       " 'such': 22,\n",
       " 'network': 23,\n",
       " 'its': 24,\n",
       " 'would': 25,\n",
       " 'focuses': 26,\n",
       " 'by': 27,\n",
       " 'based': 28,\n",
       " 'learn': 29,\n",
       " '-': 30,\n",
       " 'patterns': 31,\n",
       " 'question': 32,\n",
       " '<UNK>': 33,\n",
       " 'designed': 34,\n",
       " 'decision': 35,\n",
       " 'subset': 36,\n",
       " 'interconnected': 37,\n",
       " 'feedback': 38,\n",
       " 'using': 39,\n",
       " 'data': 40,\n",
       " 'allows': 41,\n",
       " 'tasks': 42,\n",
       " 'labeled': 43,\n",
       " 'narrow': 44,\n",
       " 'typically': 45,\n",
       " 'being': 46,\n",
       " 'examples': 47,\n",
       " 'development': 48,\n",
       " '/': 49,\n",
       " 'ai': 50,\n",
       " 'interpret': 51,\n",
       " 'brain': 52,\n",
       " 'form': 53,\n",
       " 'deep': 54,\n",
       " 'penalty': 55,\n",
       " 'intelligence': 56,\n",
       " '?': 57,\n",
       " 'relationships': 58,\n",
       " 'vision': 59,\n",
       " 'an': 60,\n",
       " 'system': 61,\n",
       " 'structure': 62,\n",
       " 'learns': 63,\n",
       " 'process': 64,\n",
       " 'generate': 65,\n",
       " 'given': 66,\n",
       " 'unsupervised': 67,\n",
       " 'enabling': 68,\n",
       " 'or': 69,\n",
       " 'nodes': 70,\n",
       " 'computing': 71,\n",
       " 'make': 72,\n",
       " 'visual': 73,\n",
       " 'from': 74,\n",
       " 'recognition': 75,\n",
       " 'various': 76,\n",
       " 'us': 77,\n",
       " 'improve': 78,\n",
       " 'works': 79,\n",
       " 'are': 80,\n",
       " 'on': 81,\n",
       " 'reinforcement': 82,\n",
       " 'specific': 83,\n",
       " 'time': 84,\n",
       " 'decisions': 85,\n",
       " 'task': 86,\n",
       " 'neurons': 87,\n",
       " 'way': 88,\n",
       " 'world': 89,\n",
       " 'what': 90,\n",
       " 'function': 91,\n",
       " 'language': 92,\n",
       " 'while': 93,\n",
       " 'type': 94,\n",
       " 'algorithm': 95,\n",
       " 'artificial': 96,\n",
       " 'making': 97,\n",
       " 'computer': 98,\n",
       " 'in': 99,\n",
       " 'machine': 100,\n",
       " 'systems': 101,\n",
       " 'over': 102,\n",
       " 'receives': 103,\n",
       " 'perception': 104,\n",
       " 'translation': 105,\n",
       " 'networks': 106,\n",
       " 'human': 107,\n",
       " '<': 108,\n",
       " 'is': 109,\n",
       " 'consists': 110,\n",
       " 'as': 111,\n",
       " 'have': 112,\n",
       " 'general': 113,\n",
       " 'with': 114,\n",
       " '.': 115,\n",
       " 'inspired': 116,\n",
       " 'takes': 117,\n",
       " 'neural': 118,\n",
       " 'categories': 119,\n",
       " 'can': 120,\n",
       " '<s>': 121,\n",
       " ',': 122,\n",
       " 'perform': 123,\n",
       " 'layers': 124,\n",
       " 'actions': 125,\n",
       " 'like': 126,\n",
       " 'of': 127,\n",
       " 'where': 128,\n",
       " 'take': 129,\n",
       " 'the': 130,\n",
       " 'complex': 131,\n",
       " 'require': 132,\n",
       " 'simulate': 133,\n",
       " 'that': 134,\n",
       " 'many': 135,\n",
       " 'uses': 136,\n",
       " 'computers': 137,\n",
       " 'two': 138,\n",
       " 'understand': 139,\n",
       " ':': 140,\n",
       " 'natural': 141,\n",
       " 'it': 142,\n",
       " 'around': 143,\n",
       " 's>': 144}"
      ]
     },
     "execution_count": 9,
     "metadata": {},
     "output_type": "execute_result"
    }
   ],
   "source": [
    "vocab"
   ]
  },
  {
   "cell_type": "code",
   "execution_count": 10,
   "metadata": {},
   "outputs": [
    {
     "data": {
      "text/plain": [
       "torch.Size([145, 10])"
      ]
     },
     "execution_count": 10,
     "metadata": {},
     "output_type": "execute_result"
    }
   ],
   "source": [
    "embedding_matrix = torch.randn(len(vocab),embedding_dims)\n",
    "embedding_matrix.shape"
   ]
  },
  {
   "cell_type": "code",
   "execution_count": 11,
   "metadata": {},
   "outputs": [
    {
     "data": {
      "text/plain": [
       "tensor([[-0.2772, -0.3281,  0.3344, -0.6267,  1.0277,  0.3134,  0.0751, -1.0227,\n",
       "         -1.3620,  0.6619],\n",
       "        [ 2.1767, -0.4258,  0.3887,  1.1047,  0.0862,  0.7653,  0.6838, -0.3058,\n",
       "          0.0825,  1.4358],\n",
       "        [-0.0103, -0.9212, -0.9862, -1.1666,  0.0087, -0.8620, -0.8208, -1.8808,\n",
       "          0.4522,  1.8570]])"
      ]
     },
     "execution_count": 11,
     "metadata": {},
     "output_type": "execute_result"
    }
   ],
   "source": [
    "embedding_matrix[[1,2,3]]"
   ]
  },
  {
   "cell_type": "code",
   "execution_count": 12,
   "metadata": {},
   "outputs": [
    {
     "data": {
      "text/plain": [
       "tensor([ 0.1123,  1.7515, -3.0045, -1.6307,  0.0911,  1.1416, -0.6479,  0.3158,\n",
       "        -0.7174, -0.1784])"
      ]
     },
     "execution_count": 12,
     "metadata": {},
     "output_type": "execute_result"
    }
   ],
   "source": [
    "def get_word_embedding(word, vocab=vocab, embedding_matrix=embedding_matrix):\n",
    "    if word not in vocab:\n",
    "        word = '<UNK>'\n",
    "    embedding = embedding_matrix[vocab[word]]\n",
    "    return embedding\n",
    "\n",
    "get_word_embedding('as')"
   ]
  },
  {
   "cell_type": "markdown",
   "metadata": {},
   "source": [
    "# Creating the model"
   ]
  },
  {
   "cell_type": "code",
   "execution_count": 13,
   "metadata": {},
   "outputs": [],
   "source": [
    "class NeuralNetwork(nn.Module):\n",
    "    def __init__(self, n=n, num_hidden_layer=1024, vocab = vocab, dim_embedding=10):\n",
    "        super(NeuralNetwork, self).__init__()\n",
    "        vocab_len = len(vocab)\n",
    "        self.n = n\n",
    "        self.dim_embedding = dim_embedding\n",
    "        self.embedding = nn.Embedding(vocab_len, dim_embedding).to(device)\n",
    "\n",
    "        self.hidden_layer = nn.Linear((n-1)*dim_embedding, num_hidden_layer)\n",
    "        self.relu = nn.ReLU()\n",
    "        self.output = nn.Linear(num_hidden_layer, vocab_len)\n",
    "\n",
    "    def forward(self,x):\n",
    "        # x will be the indices of embedding representing the input words\n",
    "        x_embeddings = self.embedding(x).view(-1,(self.n-1)*self.dim_embedding).to(device)\n",
    "        out = self.hidden_layer(x_embeddings)\n",
    "        out = self.relu(out)\n",
    "        out = self.output(out)\n",
    "        return out\n",
    "    \n",
    "\n",
    "    def generate(self, x):\n",
    "        print(x.shape)\n",
    "        assert x.shape == 0 # fix shape here, and write a loop to do autoregressive text gen\n",
    "        logits = self.forward(x)\n",
    "        probs = torch.softmax(logits, dim=1)\n",
    "        prob, predicted_token_index = torch.max(probs, dim=1)\n",
    "        return predicted_token_index\n",
    "\n",
    "model = NeuralNetwork(n=n).to(device)"
   ]
  },
  {
   "cell_type": "markdown",
   "metadata": {},
   "source": [
    "# Creating dataset"
   ]
  },
  {
   "cell_type": "code",
   "execution_count": 14,
   "metadata": {},
   "outputs": [
    {
     "data": {
      "text/plain": [
       "(399, 5)"
      ]
     },
     "execution_count": 14,
     "metadata": {},
     "output_type": "execute_result"
    }
   ],
   "source": [
    "dataset = []\n",
    "for x,y in zip(df['Question'], df['Answer']):\n",
    "    data = f'Question: {x} Answer: {y}'.lower()\n",
    "    tokenized_data = tokenize(data)\n",
    "    for i in range(len(tokenized_data)-n):\n",
    "        # print(i)\n",
    "        data_i = tokenized_data[i:i+n]\n",
    "        dataset.append([vocab[i] if i in vocab else vocab['<UNK>'] for i in data_i])\n",
    "    # print()\n",
    "\n",
    "dataset_np = np.array(dataset)\n",
    "dataset_np.shape"
   ]
  },
  {
   "cell_type": "code",
   "execution_count": 15,
   "metadata": {},
   "outputs": [
    {
     "data": {
      "text/plain": [
       "array([140,  90, 109,  96,  56])"
      ]
     },
     "execution_count": 15,
     "metadata": {},
     "output_type": "execute_result"
    }
   ],
   "source": [
    "dataset_np[1]"
   ]
  },
  {
   "cell_type": "code",
   "execution_count": 16,
   "metadata": {},
   "outputs": [],
   "source": [
    "class QuestionAnswerDataset(Dataset):\n",
    "    def __init__(self, dataset):\n",
    "        self.dataset = dataset\n",
    "        self.x = dataset[:,[i for i in range(n-1)]]\n",
    "        self.y = dataset[:,-1]\n",
    "        self.m, self.n = self.x.shape\n",
    "    \n",
    "    def __getitem__(self, index):\n",
    "        return self.x[index], self.y[index]\n",
    "    \n",
    "    def __len__(self):\n",
    "        return self.m\n",
    "    \n",
    "dataset = QuestionAnswerDataset(dataset=dataset_np)\n",
    "dataloader = DataLoader(dataset=dataset, batch_size=batch_size, shuffle=True, num_workers=0)"
   ]
  },
  {
   "cell_type": "markdown",
   "metadata": {},
   "source": [
    "# Training"
   ]
  },
  {
   "cell_type": "code",
   "execution_count": 17,
   "metadata": {},
   "outputs": [
    {
     "name": "stdout",
     "output_type": "stream",
     "text": [
      "cuda\n"
     ]
    }
   ],
   "source": [
    "num_epochs = 100\n",
    "lr = 0.001\n",
    "print(device)"
   ]
  },
  {
   "cell_type": "code",
   "execution_count": 18,
   "metadata": {},
   "outputs": [],
   "source": [
    "model = model.to(device)\n",
    "model = torch.compile(model)"
   ]
  },
  {
   "cell_type": "code",
   "execution_count": 19,
   "metadata": {},
   "outputs": [],
   "source": [
    "lossCategory = nn.CrossEntropyLoss()\n",
    "optimiser = torch.optim.SGD(model.parameters(), lr=lr)"
   ]
  },
  {
   "cell_type": "code",
   "execution_count": 20,
   "metadata": {},
   "outputs": [],
   "source": [
    "torch.set_float32_matmul_precision('high')"
   ]
  },
  {
   "cell_type": "code",
   "execution_count": 21,
   "metadata": {},
   "outputs": [
    {
     "name": "stdout",
     "output_type": "stream",
     "text": [
      "5.033625602722168\n",
      "5.013422966003418\n",
      "4.9808454513549805\n",
      "4.938394546508789\n",
      "4.942917823791504\n",
      "4.915888786315918\n",
      "4.884629249572754\n",
      "4.873202800750732\n",
      "4.850069046020508\n",
      "4.822998046875\n"
     ]
    }
   ],
   "source": [
    "for epoch in range(num_epochs):\n",
    "    for i, (input, label) in enumerate(dataloader):\n",
    "        x = input.to(device)\n",
    "        y = label.to(device)\n",
    "        y_pred = model(x)\n",
    "        loss = lossCategory(y_pred, y)\n",
    "        if epoch%10==0 and i==0: \n",
    "            # print(epoch)\n",
    "            print(loss.item())\n",
    "        loss.backward()\n",
    "        optimiser.step()\n",
    "        optimiser.zero_grad()\n"
   ]
  },
  {
   "cell_type": "markdown",
   "metadata": {},
   "source": [
    "# Inference"
   ]
  },
  {
   "cell_type": "code",
   "execution_count": 22,
   "metadata": {},
   "outputs": [],
   "source": [
    "import torch._dynamo\n",
    "torch._dynamo.config.suppress_errors = True"
   ]
  },
  {
   "cell_type": "code",
   "execution_count": 23,
   "metadata": {},
   "outputs": [
    {
     "data": {
      "text/plain": [
       "109"
      ]
     },
     "execution_count": 23,
     "metadata": {},
     "output_type": "execute_result"
    }
   ],
   "source": [
    "vocab['is']"
   ]
  },
  {
   "cell_type": "code",
   "execution_count": 31,
   "metadata": {},
   "outputs": [
    {
     "data": {
      "text/plain": [
       "tensor([121,  32, 140,  90, 109,  54,   6,  57], device='cuda:0')"
      ]
     },
     "execution_count": 31,
     "metadata": {},
     "output_type": "execute_result"
    }
   ],
   "source": [
    "text = '<s> Question: What is deep learning?'\n",
    "tokenized_text = tokenize(text.lower())\n",
    "embedding_indices = torch.tensor(np.array([vocab[word] for word in tokenized_text])).to(device)\n",
    "embedding_indices"
   ]
  },
  {
   "cell_type": "code",
   "execution_count": 32,
   "metadata": {},
   "outputs": [
    {
     "data": {
      "text/plain": [
       "tensor([121,  32, 140,  90, 109,  54,   6,  57], device='cuda:0')"
      ]
     },
     "execution_count": 32,
     "metadata": {},
     "output_type": "execute_result"
    }
   ],
   "source": [
    "embedding_indices"
   ]
  },
  {
   "cell_type": "code",
   "execution_count": 33,
   "metadata": {},
   "outputs": [
    {
     "data": {
      "text/plain": [
       "tensor([ 7, 20], device='cuda:0')"
      ]
     },
     "execution_count": 33,
     "metadata": {},
     "output_type": "execute_result"
    }
   ],
   "source": [
    "model.generate(embedding_indices)"
   ]
  },
  {
   "cell_type": "code",
   "execution_count": 34,
   "metadata": {},
   "outputs": [],
   "source": [
    "vocab_rev = {v:k for k,v in vocab.items()}"
   ]
  },
  {
   "cell_type": "code",
   "execution_count": 36,
   "metadata": {},
   "outputs": [
    {
     "data": {
      "text/plain": [
       "'answer'"
      ]
     },
     "execution_count": 36,
     "metadata": {},
     "output_type": "execute_result"
    }
   ],
   "source": [
    "vocab_rev[20]"
   ]
  },
  {
   "cell_type": "code",
   "execution_count": 29,
   "metadata": {},
   "outputs": [
    {
     "data": {
      "text/plain": [
       "Embedding(145, 10)"
      ]
     },
     "execution_count": 29,
     "metadata": {},
     "output_type": "execute_result"
    }
   ],
   "source": [
    "model.embedding"
   ]
  },
  {
   "cell_type": "code",
   "execution_count": 30,
   "metadata": {},
   "outputs": [],
   "source": [
    "# TO DO\n",
    "# normalisation, standardise, proper init, weight decay, hyperparameter tunign, diff optimiser test, inference, earlyy stopping\n",
    "# add direct connections, see if it is useful\n",
    "# plot unigram, bi, tri, etc perplexity score, word error rate, etc"
   ]
  }
 ],
 "metadata": {
  "kernelspec": {
   "display_name": "AI_ENV",
   "language": "python",
   "name": "python3"
  },
  "language_info": {
   "codemirror_mode": {
    "name": "ipython",
    "version": 3
   },
   "file_extension": ".py",
   "mimetype": "text/x-python",
   "name": "python",
   "nbconvert_exporter": "python",
   "pygments_lexer": "ipython3",
   "version": "3.10.12"
  }
 },
 "nbformat": 4,
 "nbformat_minor": 2
}
