{
 "cells": [
  {
   "cell_type": "code",
   "execution_count": 1,
   "metadata": {},
   "outputs": [
    {
     "name": "stderr",
     "output_type": "stream",
     "text": [
      "/home/arjun/Desktop/AI_ENV/lib/python3.10/site-packages/tqdm/auto.py:21: TqdmWarning: IProgress not found. Please update jupyter and ipywidgets. See https://ipywidgets.readthedocs.io/en/stable/user_install.html\n",
      "  from .autonotebook import tqdm as notebook_tqdm\n"
     ]
    }
   ],
   "source": [
    "import torch\n",
    "import numpy as np\n",
    "from datasets import load_dataset\n",
    "import torch.nn as nn\n",
    "from torch.utils.data import Dataset, DataLoader"
   ]
  },
  {
   "cell_type": "code",
   "execution_count": 2,
   "metadata": {},
   "outputs": [],
   "source": [
    "device = torch.device('cuda' if torch.cuda.is_available() else 'cpu')\n",
    "# device = torch.device('cpu')\n",
    "batch_size = 256"
   ]
  },
  {
   "cell_type": "markdown",
   "metadata": {},
   "source": [
    "# Creating vocabulory"
   ]
  },
  {
   "cell_type": "code",
   "execution_count": 3,
   "metadata": {},
   "outputs": [],
   "source": [
    "n = 3\n",
    "embedding_dims = 10 # how many dimensional vector should represent each word in the vocabulory"
   ]
  },
  {
   "cell_type": "code",
   "execution_count": 4,
   "metadata": {},
   "outputs": [],
   "source": [
    "ds = load_dataset(\"MuskumPillerum/General-Knowledge\")\n",
    "df = ds['train'][:10]"
   ]
  },
  {
   "cell_type": "code",
   "execution_count": 5,
   "metadata": {},
   "outputs": [
    {
     "data": {
      "text/plain": [
       "['what', 'is', 'your', '!', '!', '!', 'name', '?']"
      ]
     },
     "execution_count": 5,
     "metadata": {},
     "output_type": "execute_result"
    }
   ],
   "source": [
    "def tokenize(sentence):\n",
    "    data = sentence\n",
    "    split_terms = [',', '.', '!', '?', '(', ')', '&', '$', '+', '-', '/', '*', ';', ':']\n",
    "    for split_term in split_terms:\n",
    "        if split_term in sentence:\n",
    "            data = data.replace(split_term, f' {split_term} ')\n",
    "    data = data.split()\n",
    "    return data\n",
    "\n",
    "tokenize('what is your !! ! name ?    ')"
   ]
  },
  {
   "cell_type": "code",
   "execution_count": 6,
   "metadata": {},
   "outputs": [],
   "source": [
    "vocab_list = set()\n",
    "X = []\n",
    "for x,y in zip(df['Question'], df['Answer']):\n",
    "    data = f'Question: {x} Answer: {y}'\n",
    "    data = data.lower().replace('\\\\n', '')\n",
    "    vocab_list.update(tokenize(data))\n",
    "    X.append(data)"
   ]
  },
  {
   "cell_type": "code",
   "execution_count": 7,
   "metadata": {},
   "outputs": [],
   "source": [
    "vocab_list.add('<UNK>')"
   ]
  },
  {
   "cell_type": "code",
   "execution_count": 8,
   "metadata": {},
   "outputs": [
    {
     "data": {
      "text/plain": [
       "141"
      ]
     },
     "execution_count": 8,
     "metadata": {},
     "output_type": "execute_result"
    }
   ],
   "source": [
    "vocab = {v:i for v,i in zip(vocab_list, range(0, len(vocab_list)+1))}\n",
    "len(vocab)"
   ]
  },
  {
   "cell_type": "code",
   "execution_count": 9,
   "metadata": {},
   "outputs": [
    {
     "data": {
      "text/plain": [
       "{'brain': 0,\n",
       " 'world': 1,\n",
       " 'unsupervised': 2,\n",
       " 'learns': 3,\n",
       " 'computer': 4,\n",
       " 'answer': 5,\n",
       " 'ai': 6,\n",
       " 'with': 7,\n",
       " 'computing': 8,\n",
       " 'inspired': 9,\n",
       " 'analyze': 10,\n",
       " 'is': 11,\n",
       " 'form': 12,\n",
       " '?': 13,\n",
       " 'are': 14,\n",
       " 'from': 15,\n",
       " 'given': 16,\n",
       " 'takes': 17,\n",
       " '.': 18,\n",
       " 'narrow': 19,\n",
       " 'ability': 20,\n",
       " 'perform': 21,\n",
       " 'decisions': 22,\n",
       " 'based': 23,\n",
       " 'maximize': 24,\n",
       " 'information': 25,\n",
       " 'neurons': 26,\n",
       " 'without': 27,\n",
       " 'structure': 28,\n",
       " 'computers': 29,\n",
       " 'systems': 30,\n",
       " 'that': 31,\n",
       " 'a': 32,\n",
       " 'data': 33,\n",
       " 'interconnected': 34,\n",
       " 'designed': 35,\n",
       " 'using': 36,\n",
       " 'intelligence': 37,\n",
       " 'processing': 38,\n",
       " 'such': 39,\n",
       " 'this': 40,\n",
       " 'network': 41,\n",
       " 'consists': 42,\n",
       " 'by': 43,\n",
       " 'where': 44,\n",
       " 'speech': 45,\n",
       " 'relationships': 46,\n",
       " 'system': 47,\n",
       " 'it': 48,\n",
       " 'in': 49,\n",
       " 'of': 50,\n",
       " 'as': 51,\n",
       " 'generate': 52,\n",
       " 'algorithms': 53,\n",
       " 'natural': 54,\n",
       " 'uses': 55,\n",
       " 'time': 56,\n",
       " 'categories': 57,\n",
       " 'development': 58,\n",
       " 'machine': 59,\n",
       " 'main': 60,\n",
       " 'language': 61,\n",
       " 'function': 62,\n",
       " 'refers': 63,\n",
       " 'focuses': 64,\n",
       " 'improve': 65,\n",
       " '<UNK>': 66,\n",
       " 'works': 67,\n",
       " 'learning': 68,\n",
       " 'vision': 69,\n",
       " 'nodes': 70,\n",
       " 'and': 71,\n",
       " 'perception': 72,\n",
       " 'question': 73,\n",
       " ',': 74,\n",
       " 'actions': 75,\n",
       " 'patterns': 76,\n",
       " 'decision': 77,\n",
       " 'many': 78,\n",
       " 'task': 79,\n",
       " 'have': 80,\n",
       " 'require': 81,\n",
       " 'like': 82,\n",
       " 'type': 83,\n",
       " 'specific': 84,\n",
       " 'to': 85,\n",
       " 'deep': 86,\n",
       " 'examples': 87,\n",
       " 'various': 88,\n",
       " 'around': 89,\n",
       " 'allows': 90,\n",
       " 'subset': 91,\n",
       " 'visual': 92,\n",
       " 'what': 93,\n",
       " 'would': 94,\n",
       " 'on': 95,\n",
       " 'signal': 96,\n",
       " ':': 97,\n",
       " 'can': 98,\n",
       " 'translation': 99,\n",
       " 'human': 100,\n",
       " 'complex': 101,\n",
       " 'learn': 102,\n",
       " 'enabling': 103,\n",
       " 'way': 104,\n",
       " 'while': 105,\n",
       " 'algorithm': 106,\n",
       " 'neural': 107,\n",
       " 'an': 108,\n",
       " 'interpret': 109,\n",
       " 'understand': 110,\n",
       " 'recognition': 111,\n",
       " 'two': 112,\n",
       " 'the': 113,\n",
       " 'take': 114,\n",
       " '-': 115,\n",
       " 'making': 116,\n",
       " 'reinforcement': 117,\n",
       " 'typically': 118,\n",
       " 'over': 119,\n",
       " 'environment': 120,\n",
       " 'us': 121,\n",
       " 'layers': 122,\n",
       " 'transmit': 123,\n",
       " 'process': 124,\n",
       " 'reward': 125,\n",
       " 'predictions': 126,\n",
       " 'being': 127,\n",
       " 'networks': 128,\n",
       " 'labeled': 129,\n",
       " 'general': 130,\n",
       " 'make': 131,\n",
       " 'receives': 132,\n",
       " 'penalty': 133,\n",
       " 'aims': 134,\n",
       " 'feedback': 135,\n",
       " 'its': 136,\n",
       " 'tasks': 137,\n",
       " 'or': 138,\n",
       " 'simulate': 139,\n",
       " 'artificial': 140}"
      ]
     },
     "execution_count": 9,
     "metadata": {},
     "output_type": "execute_result"
    }
   ],
   "source": [
    "vocab"
   ]
  },
  {
   "cell_type": "code",
   "execution_count": 10,
   "metadata": {},
   "outputs": [
    {
     "data": {
      "text/plain": [
       "torch.Size([141, 10])"
      ]
     },
     "execution_count": 10,
     "metadata": {},
     "output_type": "execute_result"
    }
   ],
   "source": [
    "embedding_matrix = torch.randn(len(vocab),embedding_dims)\n",
    "embedding_matrix.shape"
   ]
  },
  {
   "cell_type": "code",
   "execution_count": 11,
   "metadata": {},
   "outputs": [
    {
     "data": {
      "text/plain": [
       "tensor([[ 0.1441, -0.0660, -0.1486, -0.5367,  0.8855,  0.3319,  2.3894, -0.0252,\n",
       "          1.1656,  0.4430],\n",
       "        [ 0.5385,  0.4685,  1.5679,  1.0924,  1.7072, -0.7975,  0.8017, -0.6557,\n",
       "         -0.0391,  1.8227],\n",
       "        [ 1.6989,  0.8181,  0.5669, -0.5853,  0.3487, -0.5965, -0.2985,  0.5015,\n",
       "         -0.1862,  1.2021]])"
      ]
     },
     "execution_count": 11,
     "metadata": {},
     "output_type": "execute_result"
    }
   ],
   "source": [
    "embedding_matrix[[1,2,3]]"
   ]
  },
  {
   "cell_type": "code",
   "execution_count": 12,
   "metadata": {},
   "outputs": [
    {
     "data": {
      "text/plain": [
       "tensor([ 0.6150,  2.1484, -0.3243, -0.1649, -0.1562, -0.3681, -0.5178,  0.6161,\n",
       "        -0.9528, -0.5300])"
      ]
     },
     "execution_count": 12,
     "metadata": {},
     "output_type": "execute_result"
    }
   ],
   "source": [
    "def get_word_embedding(word, vocab=vocab, embedding_matrix=embedding_matrix):\n",
    "    if word not in vocab:\n",
    "        word = '<UNK>'\n",
    "    embedding = embedding_matrix[vocab[word]]\n",
    "    return embedding\n",
    "\n",
    "get_word_embedding('as')"
   ]
  },
  {
   "cell_type": "markdown",
   "metadata": {},
   "source": [
    "# Creating the model"
   ]
  },
  {
   "cell_type": "code",
   "execution_count": 13,
   "metadata": {},
   "outputs": [],
   "source": [
    "from print_color import print"
   ]
  },
  {
   "cell_type": "code",
   "execution_count": 14,
   "metadata": {},
   "outputs": [],
   "source": [
    "class NeuralNetwork(nn.Module):\n",
    "    def __init__(self, n=n, num_hidden_layer=1024, vocab_len = len(vocab_list), dim_embedding=10):\n",
    "        super(NeuralNetwork, self).__init__()\n",
    "        self.n = n\n",
    "        self.dim_embedding = dim_embedding\n",
    "        self.embedding = nn.Embedding(vocab_len, dim_embedding).to(device)\n",
    "\n",
    "        self.hidden_layer = nn.Linear((n-1)*dim_embedding, num_hidden_layer)\n",
    "        self.relu = nn.ReLU()\n",
    "        self.output = nn.Linear(num_hidden_layer, vocab_len)\n",
    "        # self.softmax = nn.Softmax(dim=1)\n",
    "\n",
    "    def forward(self,x):\n",
    "        # x will be the indices of embedding representing the input words\n",
    "        x_embeddings = self.embedding(x).view(-1,(self.n-1)*self.dim_embedding).to(device)\n",
    "        out = self.hidden_layer(x_embeddings)\n",
    "        out = self.relu(out)\n",
    "        out = self.output(out)\n",
    "        return out\n",
    "\n",
    "model = NeuralNetwork(n=3).to(device)"
   ]
  },
  {
   "cell_type": "markdown",
   "metadata": {},
   "source": [
    "# Creating dataset"
   ]
  },
  {
   "cell_type": "code",
   "execution_count": 15,
   "metadata": {},
   "outputs": [
    {
     "data": {
      "text/plain": [
       "(419, 3)"
      ]
     },
     "execution_count": 15,
     "metadata": {},
     "output_type": "execute_result"
    }
   ],
   "source": [
    "dataset = []\n",
    "for x,y in zip(df['Question'], df['Answer']):\n",
    "    data = f'Question: {x} Answer: {y}'.lower()\n",
    "    tokenized_data = tokenize(data)\n",
    "    for i in range(len(tokenized_data)-n):\n",
    "        # print(i)\n",
    "        data_i = tokenized_data[i:i+n]\n",
    "        dataset.append([vocab[i] if i in vocab else vocab['<UNK>'] for i in data_i])\n",
    "    # print()\n",
    "\n",
    "dataset_np = np.array(dataset)\n",
    "dataset_np.shape"
   ]
  },
  {
   "cell_type": "code",
   "execution_count": 16,
   "metadata": {},
   "outputs": [],
   "source": [
    "class QuestionAnswerDataset(Dataset):\n",
    "    def __init__(self, dataset):\n",
    "        self.dataset = dataset\n",
    "        self.x = dataset[:,[i for i in range(n-1)]]\n",
    "        self.y = dataset[:,-1]\n",
    "        self.m, self.n = self.x.shape\n",
    "    \n",
    "    def __getitem__(self, index):\n",
    "        return self.x[index], self.y[index]\n",
    "    \n",
    "    def __len__(self):\n",
    "        return self.m\n",
    "    \n",
    "dataset = QuestionAnswerDataset(dataset=dataset_np)\n",
    "dataloader = DataLoader(dataset=dataset, batch_size=batch_size, shuffle=True, num_workers=0)"
   ]
  },
  {
   "cell_type": "markdown",
   "metadata": {},
   "source": [
    "# Training"
   ]
  },
  {
   "cell_type": "code",
   "execution_count": 17,
   "metadata": {},
   "outputs": [
    {
     "name": "stdout",
     "output_type": "stream",
     "text": [
      "cuda\u001b[0m\n"
     ]
    }
   ],
   "source": [
    "num_epochs = 100\n",
    "lr = 0.01\n",
    "print(device)"
   ]
  },
  {
   "cell_type": "code",
   "execution_count": 18,
   "metadata": {},
   "outputs": [],
   "source": [
    "model = model.to(device)\n",
    "model = torch.compile(model)"
   ]
  },
  {
   "cell_type": "code",
   "execution_count": 19,
   "metadata": {},
   "outputs": [],
   "source": [
    "lossCategory = nn.CrossEntropyLoss()\n",
    "optimiser = torch.optim.SGD(model.parameters(), lr=lr)"
   ]
  },
  {
   "cell_type": "code",
   "execution_count": 29,
   "metadata": {},
   "outputs": [
    {
     "name": "stdout",
     "output_type": "stream",
     "text": [
      "1.575454592704773\u001b[0m\n",
      "1.535890817642212\u001b[0m\n",
      "1.4748655557632446\u001b[0m\n",
      "1.5005031824111938\u001b[0m\n",
      "1.442416787147522\u001b[0m\n",
      "1.4320796728134155\u001b[0m\n",
      "1.4392311573028564\u001b[0m\n",
      "1.429460048675537\u001b[0m\n",
      "1.379377007484436\u001b[0m\n",
      "1.4494707584381104\u001b[0m\n"
     ]
    }
   ],
   "source": [
    "for epoch in range(num_epochs):\n",
    "    for i, (input, label) in enumerate(dataloader):\n",
    "        x = input.to(device)\n",
    "        y = label.to(device)\n",
    "        y_pred = model(x)\n",
    "        loss = lossCategory(y_pred, y)\n",
    "        if epoch%10==0 and i==0: \n",
    "            # print(epoch)\n",
    "            print(loss.item())\n",
    "        loss.backward()\n",
    "        optimiser.step()\n",
    "        optimiser.zero_grad()\n"
   ]
  },
  {
   "cell_type": "markdown",
   "metadata": {},
   "source": [
    "# Inference"
   ]
  },
  {
   "cell_type": "code",
   "execution_count": 37,
   "metadata": {},
   "outputs": [
    {
     "data": {
      "text/plain": [
       "[tensor([-1.2157,  1.4776, -1.6006,  0.8786, -0.7282,  0.3264,  0.3275, -1.3843,\n",
       "          2.0836, -0.1157]),\n",
       " tensor([ 1.4275,  0.4805, -0.2581, -0.7341, -0.3106,  0.2474, -0.3129, -0.4852,\n",
       "         -0.3051,  0.5465]),\n",
       " tensor([ 0.2556, -0.5062,  0.4376, -1.7617,  0.9487,  1.2253, -0.5775,  0.6699,\n",
       "          0.7205, -0.3678]),\n",
       " tensor([-1.2157,  1.4776, -1.6006,  0.8786, -0.7282,  0.3264,  0.3275, -1.3843,\n",
       "          2.0836, -0.1157]),\n",
       " tensor([-0.0436, -1.1707,  0.1053, -0.6188, -0.6143,  0.5261,  2.4051, -1.2662,\n",
       "         -0.7975,  0.9164])]"
      ]
     },
     "execution_count": 37,
     "metadata": {},
     "output_type": "execute_result"
    }
   ],
   "source": [
    "text = 'Who is the king?'\n",
    "tokenized_text = tokenize(text)\n",
    "embedding_indices = [get_word_embedding(word) for word in tokenized_text]\n",
    "embedding_indices\n",
    "# convert to tensor object\n"
   ]
  },
  {
   "cell_type": "code",
   "execution_count": 21,
   "metadata": {},
   "outputs": [],
   "source": [
    "# TO DO\n",
    "# normalisation, standardise, proper init, weight decay, hyperparameter tunign, diff optimiser test, inference, earlyy stopping\n",
    "# add direct connections, see if it is useful\n",
    "# plot unigram, bi, tri, etc perplexity score, word error rate, etc"
   ]
  }
 ],
 "metadata": {
  "kernelspec": {
   "display_name": "AI_ENV",
   "language": "python",
   "name": "python3"
  },
  "language_info": {
   "codemirror_mode": {
    "name": "ipython",
    "version": 3
   },
   "file_extension": ".py",
   "mimetype": "text/x-python",
   "name": "python",
   "nbconvert_exporter": "python",
   "pygments_lexer": "ipython3",
   "version": "3.10.12"
  }
 },
 "nbformat": 4,
 "nbformat_minor": 2
}
